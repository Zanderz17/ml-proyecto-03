{
 "cells": [
  {
   "cell_type": "markdown",
   "metadata": {},
   "source": [
    "# Librerias"
   ]
  },
  {
   "cell_type": "code",
   "execution_count": 57,
   "metadata": {},
   "outputs": [],
   "source": [
    "import pandas as pd\n",
    "import numpy as np\n",
    "import matplotlib.pyplot as plt\n",
    "from models.kmeans_optimization import KMeansClustering as KMeansOriginal\n",
    "from sklearn.preprocessing import LabelEncoder\n",
    "from sklearn.metrics import silhouette_score, adjusted_rand_score, mutual_info_score\n"
   ]
  },
  {
   "cell_type": "markdown",
   "metadata": {},
   "source": [
    "# Cargando data"
   ]
  },
  {
   "cell_type": "code",
   "execution_count": 58,
   "metadata": {},
   "outputs": [],
   "source": [
    "csv_path = './procesed-data/reduced/pca/r21d-cleaned.csv'\n",
    "data_r21d = pd.read_csv(csv_path, header=None)\n",
    "data_r21d = data_r21d.to_numpy()\n",
    "\n",
    "csv_path = './procesed-data-validation/reduced/pca/r21d-cleaned.csv'\n",
    "data_r21d_validation = pd.read_csv(csv_path, header=None)\n",
    "data_r21d_validation = data_r21d_validation.to_numpy()\n",
    "\n",
    "csv_path = './procesed-data/reduced/pca/s3d-cleaned.csv'\n",
    "data_s3d = pd.read_csv(csv_path, header=None)\n",
    "data_s3d = data_s3d.to_numpy()\n",
    "\n",
    "csv_path = './procesed-data-validation/reduced/pca/s3d-cleaned.csv'\n",
    "data_s3d_validation = pd.read_csv(csv_path, header=None)\n",
    "data_s3d_validation = data_s3d_validation.to_numpy()\n",
    "\n",
    "csv_path = './data/val_subset_10.csv'\n",
    "val_subset_10 = pd.read_csv(csv_path, header=0)"
   ]
  },
  {
   "cell_type": "markdown",
   "metadata": {},
   "source": [
    "# Kmeans & r21d"
   ]
  },
  {
   "cell_type": "code",
   "execution_count": 59,
   "metadata": {},
   "outputs": [],
   "source": [
    "csv_path = './procesed-data-validation/full/r21d.csv'\n",
    "labels = pd.read_csv(csv_path, header=0)\n",
    "labels = labels['Filename']\n",
    "labels = labels.str.split('_').str[0]"
   ]
  },
  {
   "cell_type": "code",
   "execution_count": 60,
   "metadata": {},
   "outputs": [],
   "source": [
    "filtered_df = pd.DataFrame(columns=val_subset_10.columns)\n",
    "\n",
    "for label in labels:\n",
    "    row = val_subset_10[val_subset_10['youtube_id'] == label]\n",
    "    filtered_df = pd.concat([filtered_df, row], ignore_index=True)"
   ]
  },
  {
   "cell_type": "code",
   "execution_count": 61,
   "metadata": {},
   "outputs": [],
   "source": [
    "encoder = LabelEncoder()\n",
    "filtered_df['label_encoded'] = encoder.fit_transform(filtered_df['label'])\n",
    "real_labels = filtered_df['label_encoded']\n",
    "real_labels_array = real_labels.to_numpy()"
   ]
  },
  {
   "cell_type": "code",
   "execution_count": 62,
   "metadata": {},
   "outputs": [
    {
     "name": "stdout",
     "output_type": "stream",
     "text": [
      "Adjusted Rand Score: 0.6630231026546514\n"
     ]
    }
   ],
   "source": [
    "k=10\n",
    "kmeans_original = KMeansOriginal(n_clusters=k, random_state=42)\n",
    "kmeans_original.fit(data_r21d, max_iterations=500000)\n",
    "predict_r21d = kmeans_original.predict(data_r21d_validation)\n",
    "score = adjusted_rand_score(real_labels_array, predict_r21d)\n",
    "print(\"Adjusted Rand Score:\", score)"
   ]
  },
  {
   "cell_type": "code",
   "execution_count": 63,
   "metadata": {},
   "outputs": [
    {
     "name": "stdout",
     "output_type": "stream",
     "text": [
      "             Metric    Score\n",
      "Adjusted Rand Score 0.663023\n",
      "   Silhouette Score 0.082161\n",
      " Mutual Information 1.678428\n"
     ]
    }
   ],
   "source": [
    "\n",
    "score_ars = adjusted_rand_score(real_labels_array, predict_r21d)\n",
    "\n",
    "score_silhouette = silhouette_score(data_r21d_validation, predict_r21d)\n",
    "\n",
    "score_mi = mutual_info_score(real_labels_array, predict_r21d)\n",
    "\n",
    "# Creando un DataFrame de pandas para mostrar los resultados\n",
    "results = pd.DataFrame({\n",
    "    'Metric': ['Adjusted Rand Score', 'Silhouette Score', 'Mutual Information'],\n",
    "    'Score': [score_ars, score_silhouette, score_mi]\n",
    "})\n",
    "\n",
    "print(results.to_string(index=False))\n"
   ]
  },
  {
   "cell_type": "code",
   "execution_count": 64,
   "metadata": {},
   "outputs": [
    {
     "name": "stdout",
     "output_type": "stream",
     "text": [
      "Adjusted Rand Score con max_iter=1: 0.3690265988073392\n",
      "Adjusted Rand Score con max_iter=2: 0.5283521441558734\n"
     ]
    },
    {
     "name": "stdout",
     "output_type": "stream",
     "text": [
      "Adjusted Rand Score con max_iter=3: 0.6035637054621155\n",
      "Adjusted Rand Score con max_iter=4: 0.6610827869319539\n",
      "Adjusted Rand Score con max_iter=5: 0.6630231026546514\n",
      "Adjusted Rand Score con max_iter=6: 0.6630231026546514\n",
      "Adjusted Rand Score con max_iter=7: 0.6630231026546514\n",
      "Adjusted Rand Score con max_iter=8: 0.6630231026546514\n",
      "Adjusted Rand Score con max_iter=9: 0.6630231026546514\n",
      "Adjusted Rand Score con max_iter=10: 0.6630231026546514\n",
      "Adjusted Rand Score con max_iter=11: 0.6630231026546514\n",
      "Adjusted Rand Score con max_iter=12: 0.6630231026546514\n",
      "Adjusted Rand Score con max_iter=13: 0.6630231026546514\n",
      "Adjusted Rand Score con max_iter=14: 0.6630231026546514\n",
      "Adjusted Rand Score con max_iter=15: 0.6630231026546514\n",
      "Adjusted Rand Score con max_iter=16: 0.6630231026546514\n",
      "Adjusted Rand Score con max_iter=17: 0.6630231026546514\n",
      "Adjusted Rand Score con max_iter=18: 0.6630231026546514\n",
      "Adjusted Rand Score con max_iter=19: 0.6630231026546514\n",
      "Adjusted Rand Score con max_iter=20: 0.6630231026546514\n",
      "Adjusted Rand Score con max_iter=21: 0.6630231026546514\n",
      "Adjusted Rand Score con max_iter=22: 0.6630231026546514\n",
      "Adjusted Rand Score con max_iter=23: 0.6630231026546514\n",
      "Adjusted Rand Score con max_iter=24: 0.6630231026546514\n",
      "Adjusted Rand Score con max_iter=25: 0.6630231026546514\n",
      "Adjusted Rand Score con max_iter=26: 0.6630231026546514\n",
      "Adjusted Rand Score con max_iter=27: 0.6630231026546514\n",
      "Adjusted Rand Score con max_iter=28: 0.6630231026546514\n",
      "Adjusted Rand Score con max_iter=29: 0.6630231026546514\n",
      "Adjusted Rand Score con max_iter=30: 0.6630231026546514\n",
      "Adjusted Rand Score con max_iter=31: 0.6630231026546514\n",
      "Adjusted Rand Score con max_iter=32: 0.6630231026546514\n",
      "Adjusted Rand Score con max_iter=33: 0.6630231026546514\n",
      "Adjusted Rand Score con max_iter=34: 0.6630231026546514\n",
      "Adjusted Rand Score con max_iter=35: 0.6630231026546514\n",
      "Adjusted Rand Score con max_iter=36: 0.6630231026546514\n",
      "Adjusted Rand Score con max_iter=37: 0.6630231026546514\n",
      "Adjusted Rand Score con max_iter=38: 0.6630231026546514\n",
      "Adjusted Rand Score con max_iter=39: 0.6630231026546514\n",
      "Adjusted Rand Score con max_iter=40: 0.6630231026546514\n",
      "Adjusted Rand Score con max_iter=41: 0.6630231026546514\n",
      "Adjusted Rand Score con max_iter=42: 0.6630231026546514\n",
      "Adjusted Rand Score con max_iter=43: 0.6630231026546514\n",
      "Adjusted Rand Score con max_iter=44: 0.6630231026546514\n",
      "Adjusted Rand Score con max_iter=45: 0.6630231026546514\n",
      "Adjusted Rand Score con max_iter=46: 0.6630231026546514\n",
      "Adjusted Rand Score con max_iter=47: 0.6630231026546514\n",
      "Adjusted Rand Score con max_iter=48: 0.6630231026546514\n",
      "Adjusted Rand Score con max_iter=49: 0.6630231026546514\n",
      "Adjusted Rand Score con max_iter=50: 0.6630231026546514\n",
      "Adjusted Rand Score con max_iter=51: 0.6630231026546514\n",
      "Adjusted Rand Score con max_iter=52: 0.6630231026546514\n",
      "Adjusted Rand Score con max_iter=53: 0.6630231026546514\n",
      "Adjusted Rand Score con max_iter=54: 0.6630231026546514\n",
      "Adjusted Rand Score con max_iter=55: 0.6630231026546514\n",
      "Adjusted Rand Score con max_iter=56: 0.6630231026546514\n",
      "Adjusted Rand Score con max_iter=57: 0.6630231026546514\n",
      "Adjusted Rand Score con max_iter=58: 0.6630231026546514\n",
      "Adjusted Rand Score con max_iter=59: 0.6630231026546514\n",
      "Adjusted Rand Score con max_iter=60: 0.6630231026546514\n",
      "Adjusted Rand Score con max_iter=61: 0.6630231026546514\n",
      "Adjusted Rand Score con max_iter=62: 0.6630231026546514\n",
      "Adjusted Rand Score con max_iter=63: 0.6630231026546514\n",
      "Adjusted Rand Score con max_iter=64: 0.6630231026546514\n",
      "Adjusted Rand Score con max_iter=65: 0.6630231026546514\n",
      "Adjusted Rand Score con max_iter=66: 0.6630231026546514\n",
      "Adjusted Rand Score con max_iter=67: 0.6630231026546514\n",
      "Adjusted Rand Score con max_iter=68: 0.6630231026546514\n",
      "Adjusted Rand Score con max_iter=69: 0.6630231026546514\n",
      "Adjusted Rand Score con max_iter=70: 0.6630231026546514\n",
      "Adjusted Rand Score con max_iter=71: 0.6630231026546514\n",
      "Adjusted Rand Score con max_iter=72: 0.6630231026546514\n",
      "Adjusted Rand Score con max_iter=73: 0.6630231026546514\n",
      "Adjusted Rand Score con max_iter=74: 0.6630231026546514\n",
      "Adjusted Rand Score con max_iter=75: 0.6630231026546514\n",
      "Adjusted Rand Score con max_iter=76: 0.6630231026546514\n",
      "Adjusted Rand Score con max_iter=77: 0.6630231026546514\n",
      "Adjusted Rand Score con max_iter=78: 0.6630231026546514\n",
      "Adjusted Rand Score con max_iter=79: 0.6630231026546514\n",
      "Adjusted Rand Score con max_iter=80: 0.6630231026546514\n",
      "Adjusted Rand Score con max_iter=81: 0.6630231026546514\n",
      "Adjusted Rand Score con max_iter=82: 0.6630231026546514\n",
      "Adjusted Rand Score con max_iter=83: 0.6630231026546514\n",
      "Adjusted Rand Score con max_iter=84: 0.6630231026546514\n",
      "Adjusted Rand Score con max_iter=85: 0.6630231026546514\n",
      "Adjusted Rand Score con max_iter=86: 0.6630231026546514\n",
      "Adjusted Rand Score con max_iter=87: 0.6630231026546514\n",
      "Adjusted Rand Score con max_iter=88: 0.6630231026546514\n",
      "Adjusted Rand Score con max_iter=89: 0.6630231026546514\n",
      "Adjusted Rand Score con max_iter=90: 0.6630231026546514\n",
      "Adjusted Rand Score con max_iter=91: 0.6630231026546514\n",
      "Adjusted Rand Score con max_iter=92: 0.6630231026546514\n",
      "Adjusted Rand Score con max_iter=93: 0.6630231026546514\n",
      "Adjusted Rand Score con max_iter=94: 0.6630231026546514\n",
      "Adjusted Rand Score con max_iter=95: 0.6630231026546514\n",
      "Adjusted Rand Score con max_iter=96: 0.6630231026546514\n",
      "Adjusted Rand Score con max_iter=97: 0.6630231026546514\n",
      "Adjusted Rand Score con max_iter=98: 0.6630231026546514\n",
      "Adjusted Rand Score con max_iter=99: 0.6630231026546514\n",
      "Adjusted Rand Score con max_iter=100: 0.6630231026546514\n"
     ]
    },
    {
     "data": {
      "image/png": "[encoded data removed]",
      "text/plain": [
       "<Figure size 1000x600 with 1 Axes>"
      ]
     },
     "metadata": {},
     "output_type": "display_data"
    }
   ],
   "source": [
    "k = 10\n",
    "iteration_steps = []\n",
    "scores = []\n",
    "\n",
    "for max_iter in range(1, 101, 1):\n",
    "    kmeans_original = KMeansOriginal(n_clusters=k, random_state=42)\n",
    "    kmeans_original.fit(data_r21d, max_iterations=max_iter)  \n",
    "    predict_r21d = kmeans_original.predict(data_r21d_validation)  \n",
    "    score = adjusted_rand_score(real_labels_array, predict_r21d) \n",
    "    scores.append(score) \n",
    "    iteration_steps.append(max_iter)\n",
    "    print(f\"Adjusted Rand Score con max_iter={max_iter}: {score}\")\n",
    "\n",
    "results_df = pd.DataFrame({\n",
    "    'Max Iterations': iteration_steps,\n",
    "    'ARS-PCA-R21D': scores\n",
    "})\n",
    "\n",
    "results_df.to_csv('./experiments-results/ARS-PCA-R21D.csv', index=False)\n",
    "\n",
    "# Plot\n",
    "plt.figure(figsize=(10, 6))\n",
    "plt.plot(iteration_steps, scores, marker='o', linestyle='-', color='b')\n",
    "plt.title('Adjusted Rand Score vs. Max Iterations')\n",
    "plt.xlabel('Maximum Iterations')\n",
    "plt.ylabel('Adjusted Rand Score')\n",
    "plt.grid(True)\n",
    "plt.show()"
   ]
  },
  {
   "cell_type": "markdown",
   "metadata": {},
   "source": [
    "# Kmeans & s3d"
   ]
  },
  {
   "cell_type": "code",
   "execution_count": 65,
   "metadata": {},
   "outputs": [],
   "source": [
    "csv_path = './procesed-data-validation/full/s3d.csv'\n",
    "labels = pd.read_csv(csv_path, header=0)\n",
    "labels = labels['Filename']\n",
    "labels = labels.str.split('_').str[0]"
   ]
  },
  {
   "cell_type": "code",
   "execution_count": 66,
   "metadata": {},
   "outputs": [],
   "source": [
    "filtered_df = pd.DataFrame(columns=val_subset_10.columns)\n",
    "\n",
    "for label in labels:\n",
    "    row = val_subset_10[val_subset_10['youtube_id'] == label]\n",
    "    filtered_df = pd.concat([filtered_df, row], ignore_index=True)"
   ]
  },
  {
   "cell_type": "code",
   "execution_count": 67,
   "metadata": {},
   "outputs": [],
   "source": [
    "encoder = LabelEncoder()\n",
    "filtered_df['label_encoded'] = encoder.fit_transform(filtered_df['label'])\n",
    "real_labels = filtered_df['label_encoded']\n",
    "real_labels_array = real_labels.to_numpy()"
   ]
  },
  {
   "cell_type": "code",
   "execution_count": 68,
   "metadata": {},
   "outputs": [
    {
     "name": "stdout",
     "output_type": "stream",
     "text": [
      "Adjusted Rand Score: 0.01543821785398657\n"
     ]
    }
   ],
   "source": [
    "k=10\n",
    "kmeans_original = KMeansOriginal(n_clusters=k, random_state=42)\n",
    "kmeans_original.fit(data_s3d, max_iterations=200)\n",
    "predict_s3d = kmeans_original.predict(data_s3d_validation)\n",
    "score = adjusted_rand_score(real_labels_array, predict_s3d)\n",
    "print(\"Adjusted Rand Score:\", score)"
   ]
  },
  {
   "cell_type": "code",
   "execution_count": 69,
   "metadata": {},
   "outputs": [
    {
     "name": "stdout",
     "output_type": "stream",
     "text": [
      "             Metric    Score\n",
      "Adjusted Rand Score 0.015438\n",
      "   Silhouette Score 0.233335\n",
      " Mutual Information 0.227018\n"
     ]
    }
   ],
   "source": [
    "score_ars = adjusted_rand_score(real_labels_array, predict_s3d)\n",
    "\n",
    "score_silhouette = silhouette_score(data_s3d_validation, predict_s3d)\n",
    "\n",
    "score_mi = mutual_info_score(real_labels_array, predict_s3d)\n",
    "\n",
    "results = pd.DataFrame({\n",
    "    'Metric': ['Adjusted Rand Score', 'Silhouette Score', 'Mutual Information'],\n",
    "    'Score': [score_ars, score_silhouette, score_mi]\n",
    "})\n",
    "\n",
    "print(results.to_string(index=False))"
   ]
  },
  {
   "cell_type": "code",
   "execution_count": 70,
   "metadata": {},
   "outputs": [
    {
     "name": "stdout",
     "output_type": "stream",
     "text": [
      "Adjusted Rand Score con max_iter=1: 0.01095474247825441\n",
      "Adjusted Rand Score con max_iter=2: 0.013989058798387733\n",
      "Adjusted Rand Score con max_iter=3: 0.014182964629842353\n",
      "Adjusted Rand Score con max_iter=4: 0.01468862434228583\n",
      "Adjusted Rand Score con max_iter=5: 0.01535438098897463\n",
      "Adjusted Rand Score con max_iter=6: 0.01535438098897463\n",
      "Adjusted Rand Score con max_iter=7: 0.01543821785398657\n",
      "Adjusted Rand Score con max_iter=8: 0.01543821785398657\n",
      "Adjusted Rand Score con max_iter=9: 0.01543821785398657\n",
      "Adjusted Rand Score con max_iter=10: 0.01543821785398657\n",
      "Adjusted Rand Score con max_iter=11: 0.01543821785398657\n",
      "Adjusted Rand Score con max_iter=12: 0.01543821785398657\n",
      "Adjusted Rand Score con max_iter=13: 0.01543821785398657\n",
      "Adjusted Rand Score con max_iter=14: 0.01543821785398657\n",
      "Adjusted Rand Score con max_iter=15: 0.01543821785398657\n",
      "Adjusted Rand Score con max_iter=16: 0.01543821785398657\n",
      "Adjusted Rand Score con max_iter=17: 0.01543821785398657\n",
      "Adjusted Rand Score con max_iter=18: 0.01543821785398657\n",
      "Adjusted Rand Score con max_iter=19: 0.01543821785398657\n",
      "Adjusted Rand Score con max_iter=20: 0.01543821785398657\n",
      "Adjusted Rand Score con max_iter=21: 0.01543821785398657\n",
      "Adjusted Rand Score con max_iter=22: 0.01543821785398657\n",
      "Adjusted Rand Score con max_iter=23: 0.01543821785398657\n",
      "Adjusted Rand Score con max_iter=24: 0.01543821785398657\n",
      "Adjusted Rand Score con max_iter=25: 0.01543821785398657\n",
      "Adjusted Rand Score con max_iter=26: 0.01543821785398657\n",
      "Adjusted Rand Score con max_iter=27: 0.01543821785398657\n",
      "Adjusted Rand Score con max_iter=28: 0.01543821785398657\n",
      "Adjusted Rand Score con max_iter=29: 0.01543821785398657\n",
      "Adjusted Rand Score con max_iter=30: 0.01543821785398657\n",
      "Adjusted Rand Score con max_iter=31: 0.01543821785398657\n",
      "Adjusted Rand Score con max_iter=32: 0.01543821785398657\n",
      "Adjusted Rand Score con max_iter=33: 0.01543821785398657\n",
      "Adjusted Rand Score con max_iter=34: 0.01543821785398657\n",
      "Adjusted Rand Score con max_iter=35: 0.01543821785398657\n",
      "Adjusted Rand Score con max_iter=36: 0.01543821785398657\n",
      "Adjusted Rand Score con max_iter=37: 0.01543821785398657\n",
      "Adjusted Rand Score con max_iter=38: 0.01543821785398657\n",
      "Adjusted Rand Score con max_iter=39: 0.01543821785398657\n",
      "Adjusted Rand Score con max_iter=40: 0.01543821785398657\n",
      "Adjusted Rand Score con max_iter=41: 0.01543821785398657\n",
      "Adjusted Rand Score con max_iter=42: 0.01543821785398657\n",
      "Adjusted Rand Score con max_iter=43: 0.01543821785398657\n",
      "Adjusted Rand Score con max_iter=44: 0.01543821785398657\n",
      "Adjusted Rand Score con max_iter=45: 0.01543821785398657\n",
      "Adjusted Rand Score con max_iter=46: 0.01543821785398657\n",
      "Adjusted Rand Score con max_iter=47: 0.01543821785398657\n",
      "Adjusted Rand Score con max_iter=48: 0.01543821785398657\n",
      "Adjusted Rand Score con max_iter=49: 0.01543821785398657\n",
      "Adjusted Rand Score con max_iter=50: 0.01543821785398657\n",
      "Adjusted Rand Score con max_iter=51: 0.01543821785398657\n",
      "Adjusted Rand Score con max_iter=52: 0.01543821785398657\n",
      "Adjusted Rand Score con max_iter=53: 0.01543821785398657\n",
      "Adjusted Rand Score con max_iter=54: 0.01543821785398657\n",
      "Adjusted Rand Score con max_iter=55: 0.01543821785398657\n",
      "Adjusted Rand Score con max_iter=56: 0.01543821785398657\n",
      "Adjusted Rand Score con max_iter=57: 0.01543821785398657\n",
      "Adjusted Rand Score con max_iter=58: 0.01543821785398657\n",
      "Adjusted Rand Score con max_iter=59: 0.01543821785398657\n",
      "Adjusted Rand Score con max_iter=60: 0.01543821785398657\n",
      "Adjusted Rand Score con max_iter=61: 0.01543821785398657\n",
      "Adjusted Rand Score con max_iter=62: 0.01543821785398657\n",
      "Adjusted Rand Score con max_iter=63: 0.01543821785398657\n",
      "Adjusted Rand Score con max_iter=64: 0.01543821785398657\n",
      "Adjusted Rand Score con max_iter=65: 0.01543821785398657\n",
      "Adjusted Rand Score con max_iter=66: 0.01543821785398657\n",
      "Adjusted Rand Score con max_iter=67: 0.01543821785398657\n",
      "Adjusted Rand Score con max_iter=68: 0.01543821785398657\n",
      "Adjusted Rand Score con max_iter=69: 0.01543821785398657\n",
      "Adjusted Rand Score con max_iter=70: 0.01543821785398657\n",
      "Adjusted Rand Score con max_iter=71: 0.01543821785398657\n",
      "Adjusted Rand Score con max_iter=72: 0.01543821785398657\n",
      "Adjusted Rand Score con max_iter=73: 0.01543821785398657\n",
      "Adjusted Rand Score con max_iter=74: 0.01543821785398657\n",
      "Adjusted Rand Score con max_iter=75: 0.01543821785398657\n",
      "Adjusted Rand Score con max_iter=76: 0.01543821785398657\n",
      "Adjusted Rand Score con max_iter=77: 0.01543821785398657\n",
      "Adjusted Rand Score con max_iter=78: 0.01543821785398657\n",
      "Adjusted Rand Score con max_iter=79: 0.01543821785398657\n",
      "Adjusted Rand Score con max_iter=80: 0.01543821785398657\n",
      "Adjusted Rand Score con max_iter=81: 0.01543821785398657\n",
      "Adjusted Rand Score con max_iter=82: 0.01543821785398657\n",
      "Adjusted Rand Score con max_iter=83: 0.01543821785398657\n",
      "Adjusted Rand Score con max_iter=84: 0.01543821785398657\n",
      "Adjusted Rand Score con max_iter=85: 0.01543821785398657\n",
      "Adjusted Rand Score con max_iter=86: 0.01543821785398657\n",
      "Adjusted Rand Score con max_iter=87: 0.01543821785398657\n",
      "Adjusted Rand Score con max_iter=88: 0.01543821785398657\n",
      "Adjusted Rand Score con max_iter=89: 0.01543821785398657\n",
      "Adjusted Rand Score con max_iter=90: 0.01543821785398657\n",
      "Adjusted Rand Score con max_iter=91: 0.01543821785398657\n",
      "Adjusted Rand Score con max_iter=92: 0.01543821785398657\n",
      "Adjusted Rand Score con max_iter=93: 0.01543821785398657\n",
      "Adjusted Rand Score con max_iter=94: 0.01543821785398657\n",
      "Adjusted Rand Score con max_iter=95: 0.01543821785398657\n",
      "Adjusted Rand Score con max_iter=96: 0.01543821785398657\n",
      "Adjusted Rand Score con max_iter=97: 0.01543821785398657\n",
      "Adjusted Rand Score con max_iter=98: 0.01543821785398657\n",
      "Adjusted Rand Score con max_iter=99: 0.01543821785398657\n",
      "Adjusted Rand Score con max_iter=100: 0.01543821785398657\n"
     ]
    },
    {
     "data": {
      "image/png": "[encoded data removed]",
      "text/plain": [
       "<Figure size 1000x600 with 1 Axes>"
      ]
     },
     "metadata": {},
     "output_type": "display_data"
    }
   ],
   "source": [
    "k = 10\n",
    "iteration_steps = []\n",
    "scores = []\n",
    "\n",
    "for max_iter in range(1, 101, 1):\n",
    "    kmeans_original = KMeansOriginal(n_clusters=k, random_state=42)\n",
    "    kmeans_original.fit(data_s3d, max_iterations=max_iter)  \n",
    "    predict_s3d = kmeans_original.predict(data_s3d_validation)  \n",
    "    score = adjusted_rand_score(real_labels_array, predict_s3d) \n",
    "    scores.append(score) \n",
    "    iteration_steps.append(max_iter)\n",
    "    print(f\"Adjusted Rand Score con max_iter={max_iter}: {score}\")\n",
    "\n",
    "results_df = pd.DataFrame({\n",
    "    'Max Iterations': iteration_steps,\n",
    "    'ARS-PCA-S3D': scores\n",
    "})\n",
    "\n",
    "results_df.to_csv('./experiments-results/ARS-PCA-S3D.csv', index=False)\n",
    "\n",
    "# Plot\n",
    "plt.figure(figsize=(10, 6))\n",
    "plt.plot(iteration_steps, scores, marker='o', linestyle='-', color='b')\n",
    "plt.title('Adjusted Rand Score vs. Max Iterations')\n",
    "plt.xlabel('Maximum Iterations')\n",
    "plt.ylabel('Adjusted Rand Score')\n",
    "plt.grid(True)\n",
    "plt.show()\n"
   ]
  }
 ],
 "metadata": {
  "kernelspec": {
   "display_name": "env",
   "language": "python",
   "name": "python3"
  },
  "language_info": {
   "codemirror_mode": {
    "name": "ipython",
    "version": 3
   },
   "file_extension": ".py",
   "mimetype": "text/x-python",
   "name": "python",
   "nbconvert_exporter": "python",
   "pygments_lexer": "ipython3",
   "version": "3.10.12"
  }
 },
 "nbformat": 4,
 "nbformat_minor": 2
}
