{
 "cells": [
  {
   "cell_type": "markdown",
   "metadata": {},
   "source": [
    "# Librerias"
   ]
  },
  {
   "cell_type": "code",
   "execution_count": 1,
   "metadata": {},
   "outputs": [],
   "source": [
    "import pandas as pd\n",
    "import numpy as np\n",
    "import matplotlib.pyplot as plt\n",
    "from models.dbscan import DBSCAN\n",
    "from sklearn.preprocessing import LabelEncoder\n",
    "from sklearn.metrics import silhouette_score, adjusted_rand_score, mutual_info_score\n"
   ]
  },
  {
   "cell_type": "markdown",
   "metadata": {},
   "source": [
    "# Cargando data"
   ]
  },
  {
   "cell_type": "code",
   "execution_count": 2,
   "metadata": {},
   "outputs": [],
   "source": [
    "csv_path = './procesed-data/reduced/rp/r21d-cleaned.csv'\n",
    "data_r21d = pd.read_csv(csv_path, header=None)\n",
    "data_r21d = data_r21d.to_numpy()\n",
    "\n",
    "csv_path = './procesed-data-validation/reduced/rp/r21d-cleaned.csv'\n",
    "data_r21d_validation = pd.read_csv(csv_path, header=None)\n",
    "data_r21d_validation = data_r21d_validation.to_numpy()\n",
    "\n",
    "csv_path = './procesed-data/reduced/rp/s3d-cleaned.csv'\n",
    "data_s3d = pd.read_csv(csv_path, header=None)\n",
    "data_s3d = data_s3d.to_numpy()\n",
    "\n",
    "csv_path = './procesed-data-validation/reduced/rp/s3d-cleaned.csv'\n",
    "data_s3d_validation = pd.read_csv(csv_path, header=None)\n",
    "data_s3d_validation = data_s3d_validation.to_numpy()\n",
    "\n",
    "csv_path = './data/val_subset_10.csv'\n",
    "val_subset_10 = pd.read_csv(csv_path, header=0)"
   ]
  },
  {
   "cell_type": "markdown",
   "metadata": {},
   "source": [
    "# DBSCAN & r21d"
   ]
  },
  {
   "cell_type": "code",
   "execution_count": 3,
   "metadata": {},
   "outputs": [],
   "source": [
    "csv_path = './procesed-data-validation/full/r21d.csv'\n",
    "labels = pd.read_csv(csv_path, header=0)\n",
    "labels = labels['Filename']\n",
    "labels = labels.str.split('_').str[0]"
   ]
  },
  {
   "cell_type": "code",
   "execution_count": 4,
   "metadata": {},
   "outputs": [],
   "source": [
    "filtered_df = pd.DataFrame(columns=val_subset_10.columns)\n",
    "\n",
    "for label in labels:\n",
    "    row = val_subset_10[val_subset_10['youtube_id'] == label]\n",
    "    filtered_df = pd.concat([filtered_df, row], ignore_index=True)"
   ]
  },
  {
   "cell_type": "code",
   "execution_count": 5,
   "metadata": {},
   "outputs": [],
   "source": [
    "encoder = LabelEncoder()\n",
    "filtered_df['label_encoded'] = encoder.fit_transform(filtered_df['label'])\n",
    "real_labels = filtered_df['label_encoded']\n",
    "real_labels_array = real_labels.to_numpy()"
   ]
  },
  {
   "cell_type": "code",
   "execution_count": 6,
   "metadata": {},
   "outputs": [
    {
     "name": "stdout",
     "output_type": "stream",
     "text": [
      "Etiquetas para el conjunto de validación: [1, 1, 1, 1, 1, 1, 1, 1, 1, 1, 1, 1, 1, 1, 1, 1, 1, 1, 1, 1, 1, 1, 1, 1, 1, 1, 1, 1, 1, 1, 1, 1, 1, 1, 1, 1, 1, 1, 1, 1, 1, 1, 1, 1, 1, 1, 1, 1, 1, 1, 1, 1, 1, 1, 1, 1, 1, 1, 1, 1, 1, 1, 1, 1, 1, 1, 1, 1, 1, 1, 1, 1, 1, 1, 1, 1, 1, 1, 1, 1, 1, 1, 1, 1, 1, 1, 1, 1, 1, 1, 1, 1, 1, 1, 1, 1, 1, 1, 1, 1, 1, 1, 1, 1, 1, 1, 1, 1, 1, 1, 1, 1, 1, 1, 1, 1, 1, 1, 1, 1, 1, 1, 1, 1, 1, 1, 1, 1, 1, 1, 1, 1, 1, 1, 1, 1, 1, 1, 1, 1, 1, 1, 1, 1, 1, 1, 1, 1, 1, 1, 1, 1, 1, 1, 1, 1, 1, 1, 1, 1, 1, 1, 1, 1, 1, 1, 1, 1, 1, 1, 1, 1, 1, 1, 1, 1, 1, 1, 1, 1, 1, 1, 1, 1, 1, 1, 1, 1, 1, 1, 1, 1, 1, 1, 1, 1, 1, 1, 1, 1, 1, 1, 1, 1, 1, 1, 1, 1, 1, 1, 1, 1, 1, 1, 1, 1, 1, 1, 1, 1, 1, 1, 1, 1, 1, 1, 1, 1, 1, 1, 1, 1, 1, 1, 1, 1, 1, 1, 1, 1, 1, 1, 1, 1, 1, 1, 1, 1, 1, 1, 1, 1, 1, 1, 1, 1, 1, 1, 1, 1, 1, 1, 1, 1, 1, 1, 1, 1, 1, 1, 1, 1, 1, 1, 1, 1, 1, 1, 1, 1, 1, 1, 1, 1, 1, 1, 1, 1, 1, 1, 1, 1, 1, 1, 1, 1, 1, 1, 1, 1, 1, 1, 1, 1, 1, 1, 1, 1, 1, 1, 1, 1, 1, 1, 1, 1, 1, 1, 1, 1, 1, 1, 1, 1, 1, 1, 1, 1, 1, 1, 1, 1, 1, 1, 1, 1, 1, 1, 1, 1, 1, 1, 1, 1, 1, 1, 1, 1, 1, 1, 1, 1, 1, 1, 1, 1, 1, 1, 1, 1, 1, 1, 1, 1, 1, 1, 1, 1, 1, 1, 1, 1, 1, 1, 1, 1, 1, 1, 1, 1, 1, 1, 1, 1, 1, 1, 1, 1, 1, 1, 1, 1, 1, 1, 1, 1, 1, 1, 1, 1, 1, 1, 1, 1, 1, 1, 1, 1, 1, 1, 1, 1, 1, 1, 1, 1, 1, 1, 1, 1, 1, 1, 1, 1, 1, 1]\n",
      "Adjusted Rand Score: 0.0\n"
     ]
    }
   ],
   "source": [
    "\n",
    "# Concatenar los conjuntos de datos de entrenamiento y validación\n",
    "combined_data = np.concatenate((data_r21d, data_r21d_validation))\n",
    "\n",
    "from sklearn.preprocessing import StandardScaler\n",
    "scaler = StandardScaler()\n",
    "combined_data_standardized = scaler.fit_transform(combined_data)\n",
    "\n",
    "\n",
    "# Crear una instancia de DBSCAN\n",
    "# Asumiendo que la clase DBSCAN ya está definida y correctamente importada\n",
    "dbscan = DBSCAN(radio=45, vecinos_min=1)\n",
    "\n",
    "# Ajustar DBSCAN al conjunto combinado\n",
    "labels = dbscan.fit(combined_data_standardized)\n",
    "\n",
    "# Extraer las etiquetas para el conjunto de validación\n",
    "# El número de etiquetas a extraer es igual al número de ejemplos en validation_data\n",
    "validation_labels = labels[-len(data_r21d_validation):]\n",
    "\n",
    "# Imprimir las etiquetas extraídas para el conjunto de validación\n",
    "print(\"Etiquetas para el conjunto de validación:\", validation_labels)\n",
    "score = adjusted_rand_score(real_labels_array, validation_labels)\n",
    "print(\"Adjusted Rand Score:\", score)"
   ]
  },
  {
   "cell_type": "code",
   "execution_count": 7,
   "metadata": {},
   "outputs": [
    {
     "name": "stdout",
     "output_type": "stream",
     "text": [
      "             Metric  Score\n",
      "Adjusted Rand Score    0.0\n",
      " Mutual Information    0.0\n"
     ]
    }
   ],
   "source": [
    "score_ars = adjusted_rand_score(real_labels_array, validation_labels)\n",
    "\n",
    "\n",
    "score_mi = mutual_info_score(real_labels_array, validation_labels)\n",
    "\n",
    "results = pd.DataFrame({\n",
    "    'Metric': ['Adjusted Rand Score', 'Mutual Information'],\n",
    "    'Score': [score_ars, score_mi]\n",
    "})\n",
    "\n",
    "print(results.to_string(index=False))"
   ]
  },
  {
   "cell_type": "markdown",
   "metadata": {},
   "source": [
    "# DBSCAN & s3d"
   ]
  },
  {
   "cell_type": "code",
   "execution_count": 9,
   "metadata": {},
   "outputs": [],
   "source": [
    "csv_path = './procesed-data-validation/full/s3d.csv'\n",
    "labels = pd.read_csv(csv_path, header=0)\n",
    "labels = labels['Filename']\n",
    "labels = labels.str.split('_').str[0]"
   ]
  },
  {
   "cell_type": "code",
   "execution_count": 10,
   "metadata": {},
   "outputs": [],
   "source": [
    "filtered_df = pd.DataFrame(columns=val_subset_10.columns)\n",
    "\n",
    "for label in labels:\n",
    "    row = val_subset_10[val_subset_10['youtube_id'] == label]\n",
    "    filtered_df = pd.concat([filtered_df, row], ignore_index=True)"
   ]
  },
  {
   "cell_type": "code",
   "execution_count": 11,
   "metadata": {},
   "outputs": [],
   "source": [
    "encoder = LabelEncoder()\n",
    "filtered_df['label_encoded'] = encoder.fit_transform(filtered_df['label'])\n",
    "real_labels = filtered_df['label_encoded']\n",
    "real_labels_array = real_labels.to_numpy()"
   ]
  },
  {
   "cell_type": "code",
   "execution_count": 12,
   "metadata": {},
   "outputs": [
    {
     "name": "stdout",
     "output_type": "stream",
     "text": [
      "Etiquetas para el conjunto de validación: [1, 1, 1, 1, 1, 1, 1, 1, 1, 1, 1, 1, 1, 1, 1, 1, 1, 1, 1, 1, 1, 1, 1, 1, 1, 1, 1, 1, 1, 1, 1, 1, 1, 1, 1, 1, 1, 1, 1, 1, 1, 1, 1, 1, 1, 1, 1, 1, 1, 1, 1, 1, 1, 1, 1, 1, 1, 1, 1, 1, 1, 1, 1, 1, 1, 1, 1, 1, 1, 1, 1, 1, 1, 1, 1, 1, 1, 1, 1, 1, 1, 1, 1, 1, 1, 1, 1, 1, 1, 1, 1, 1, 1, 1, 1, 1, 1, 1, 1, 1, 1, 1, 1, 1, 1, 1, 1, 1, 1, 1, 1, 1, 1, 1, 1, 1, 1, 1, 1, 1, 1, 1, 1, 1, 1, 1, 1, 1, 1, 1, 1, 1, 1, 1, 1, 1, 1, 1, 1, 1, 1, 1, 1, 1, 1, 1, 1, 1, 1, 1, 1, 1, 1, 1, 1, 1, 1, 1, 1, 1, 1, 1, 1, 1, 1, 1, 1, 1, 1, 1, 1, 1, 1, 1, 1, 1, 1, 1, 1, 1, 1, 1, 1, 1, 1, 1, 1, 1, 1, 1, 1, 1, 1, 1, 1, 1, 1, 1, 1, 1, 1, 1, 1, 1, 1, 1, 1, 1, 1, 1, 1, 1, 1, 1, 1, 1, 1, 1, 1, 1, 1, 1, 1, 1, 1, 1, 1, 1, 1, 1, 1, 1, 1, 1, 1, 1, 1, 1, 1, 29, 1, 1, 30, 1, 1, 1, 1, 1, 1, 1, 1, 1, 1, 1, 31, 1, 1, 1, 1, 1, 1, 1, 1, 1, 1, 1, 1, 1, 1, 1, 1, 1, 1, 1, 1, 1, 1, 1, 1, 1, 1, 1, 1, 1, 1, 1, 1, 1, 1, 1, 1, 1, 1, 1, 1, 1, 1, 1, 1, 1, 1, 1, 1, 1, 1, 1, 32, 1, 1, 1, 1, 1, 1, 1, 1, 1, 1, 1, 1, 1, 1, 1, 1, 1, 1, 1, 1, 1, 1, 1, 1, 1, 1, 1, 1, 1, 1, 1, 1, 1, 1, 1, 1, 1, 1, 1, 1, 1, 1, 1, 1, 1, 1, 1, 1, 1, 1, 1, 1, 1, 1, 1, 1, 1, 1, 1, 1, 1, 1, 1, 1, 1, 1, 1, 1, 1, 1, 1, 1, 1, 1, 1, 1, 1, 1, 1, 1, 1, 1, 1, 1, 1, 1, 1, 1, 1, 1, 1, 1, 1, 1, 1, 1, 33, 1, 1, 1, 1, 1, 1, 1, 1, 1, 1, 1, 1, 1, 1, 1, 1, 1, 1, 1, 1, 1, 1]\n",
      "Adjusted Rand Score: 0.00011123513336110675\n"
     ]
    }
   ],
   "source": [
    "\n",
    "# Concatenar los conjuntos de datos de entrenamiento y validación\n",
    "combined_data = np.concatenate((data_s3d, data_s3d_validation))\n",
    "\n",
    "from sklearn.preprocessing import StandardScaler\n",
    "scaler = StandardScaler()\n",
    "combined_data_standardized = scaler.fit_transform(combined_data)\n",
    "\n",
    "\n",
    "# Crear una instancia de DBSCAN\n",
    "# Asumiendo que la clase DBSCAN ya está definida y correctamente importada\n",
    "dbscan = DBSCAN(radio=45, vecinos_min=1)\n",
    "\n",
    "# Ajustar DBSCAN al conjunto combinado\n",
    "labels = dbscan.fit(combined_data_standardized)\n",
    "\n",
    "# Extraer las etiquetas para el conjunto de validación\n",
    "# El número de etiquetas a extraer es igual al número de ejemplos en validation_data\n",
    "validation_labels = labels[-len(data_r21d_validation):]\n",
    "\n",
    "# Imprimir las etiquetas extraídas para el conjunto de validación\n",
    "print(\"Etiquetas para el conjunto de validación:\", validation_labels)\n",
    "score = adjusted_rand_score(real_labels_array, validation_labels)\n",
    "print(\"Adjusted Rand Score:\", score)"
   ]
  },
  {
   "cell_type": "code",
   "execution_count": 13,
   "metadata": {},
   "outputs": [
    {
     "name": "stdout",
     "output_type": "stream",
     "text": [
      "             Metric    Score\n",
      "Adjusted Rand Score 0.000111\n",
      " Mutual Information 0.027381\n"
     ]
    }
   ],
   "source": [
    "score_ars = adjusted_rand_score(real_labels_array, validation_labels)\n",
    "\n",
    "\n",
    "score_mi = mutual_info_score(real_labels_array, validation_labels)\n",
    "\n",
    "results = pd.DataFrame({\n",
    "    'Metric': ['Adjusted Rand Score', 'Mutual Information'],\n",
    "    'Score': [score_ars, score_mi]\n",
    "})\n",
    "\n",
    "print(results.to_string(index=False))"
   ]
  }
 ],
 "metadata": {
  "kernelspec": {
   "display_name": "env",
   "language": "python",
   "name": "python3"
  },
  "language_info": {
   "codemirror_mode": {
    "name": "ipython",
    "version": 3
   },
   "file_extension": ".py",
   "mimetype": "text/x-python",
   "name": "python",
   "nbconvert_exporter": "python",
   "pygments_lexer": "ipython3",
   "version": "3.10.12"
  }
 },
 "nbformat": 4,
 "nbformat_minor": 2
}
